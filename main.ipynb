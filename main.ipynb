{
 "cells": [
  {
   "cell_type": "code",
   "execution_count": 16,
   "metadata": {},
   "outputs": [],
   "source": [
    "import numpy as np\n",
    "import pandas as pd\n",
    "import matplotlib.pyplot as plt"
   ]
  },
  {
   "cell_type": "code",
   "execution_count": 17,
   "metadata": {},
   "outputs": [],
   "source": [
    "df = pd.read_csv('data/dataset.csv')"
   ]
  },
  {
   "cell_type": "code",
   "execution_count": 18,
   "metadata": {},
   "outputs": [
    {
     "data": {
      "text/html": [
       "<div>\n",
       "<style scoped>\n",
       "    .dataframe tbody tr th:only-of-type {\n",
       "        vertical-align: middle;\n",
       "    }\n",
       "\n",
       "    .dataframe tbody tr th {\n",
       "        vertical-align: top;\n",
       "    }\n",
       "\n",
       "    .dataframe thead th {\n",
       "        text-align: right;\n",
       "    }\n",
       "</style>\n",
       "<table border=\"1\" class=\"dataframe\">\n",
       "  <thead>\n",
       "    <tr style=\"text-align: right;\">\n",
       "      <th></th>\n",
       "      <th>index</th>\n",
       "      <th>having_IPhaving_IP_Address</th>\n",
       "      <th>URLURL_Length</th>\n",
       "      <th>Shortining_Service</th>\n",
       "      <th>having_At_Symbol</th>\n",
       "      <th>double_slash_redirecting</th>\n",
       "      <th>Prefix_Suffix</th>\n",
       "      <th>having_Sub_Domain</th>\n",
       "      <th>SSLfinal_State</th>\n",
       "      <th>Domain_registeration_length</th>\n",
       "      <th>...</th>\n",
       "      <th>popUpWidnow</th>\n",
       "      <th>Iframe</th>\n",
       "      <th>age_of_domain</th>\n",
       "      <th>DNSRecord</th>\n",
       "      <th>web_traffic</th>\n",
       "      <th>Page_Rank</th>\n",
       "      <th>Google_Index</th>\n",
       "      <th>Links_pointing_to_page</th>\n",
       "      <th>Statistical_report</th>\n",
       "      <th>Result</th>\n",
       "    </tr>\n",
       "  </thead>\n",
       "  <tbody>\n",
       "    <tr>\n",
       "      <th>0</th>\n",
       "      <td>1</td>\n",
       "      <td>-1</td>\n",
       "      <td>1</td>\n",
       "      <td>1</td>\n",
       "      <td>1</td>\n",
       "      <td>-1</td>\n",
       "      <td>-1</td>\n",
       "      <td>-1</td>\n",
       "      <td>-1</td>\n",
       "      <td>-1</td>\n",
       "      <td>...</td>\n",
       "      <td>1</td>\n",
       "      <td>1</td>\n",
       "      <td>-1</td>\n",
       "      <td>-1</td>\n",
       "      <td>-1</td>\n",
       "      <td>-1</td>\n",
       "      <td>1</td>\n",
       "      <td>1</td>\n",
       "      <td>-1</td>\n",
       "      <td>-1</td>\n",
       "    </tr>\n",
       "    <tr>\n",
       "      <th>1</th>\n",
       "      <td>2</td>\n",
       "      <td>1</td>\n",
       "      <td>1</td>\n",
       "      <td>1</td>\n",
       "      <td>1</td>\n",
       "      <td>1</td>\n",
       "      <td>-1</td>\n",
       "      <td>0</td>\n",
       "      <td>1</td>\n",
       "      <td>-1</td>\n",
       "      <td>...</td>\n",
       "      <td>1</td>\n",
       "      <td>1</td>\n",
       "      <td>-1</td>\n",
       "      <td>-1</td>\n",
       "      <td>0</td>\n",
       "      <td>-1</td>\n",
       "      <td>1</td>\n",
       "      <td>1</td>\n",
       "      <td>1</td>\n",
       "      <td>-1</td>\n",
       "    </tr>\n",
       "    <tr>\n",
       "      <th>2</th>\n",
       "      <td>3</td>\n",
       "      <td>1</td>\n",
       "      <td>0</td>\n",
       "      <td>1</td>\n",
       "      <td>1</td>\n",
       "      <td>1</td>\n",
       "      <td>-1</td>\n",
       "      <td>-1</td>\n",
       "      <td>-1</td>\n",
       "      <td>-1</td>\n",
       "      <td>...</td>\n",
       "      <td>1</td>\n",
       "      <td>1</td>\n",
       "      <td>1</td>\n",
       "      <td>-1</td>\n",
       "      <td>1</td>\n",
       "      <td>-1</td>\n",
       "      <td>1</td>\n",
       "      <td>0</td>\n",
       "      <td>-1</td>\n",
       "      <td>-1</td>\n",
       "    </tr>\n",
       "    <tr>\n",
       "      <th>3</th>\n",
       "      <td>4</td>\n",
       "      <td>1</td>\n",
       "      <td>0</td>\n",
       "      <td>1</td>\n",
       "      <td>1</td>\n",
       "      <td>1</td>\n",
       "      <td>-1</td>\n",
       "      <td>-1</td>\n",
       "      <td>-1</td>\n",
       "      <td>1</td>\n",
       "      <td>...</td>\n",
       "      <td>1</td>\n",
       "      <td>1</td>\n",
       "      <td>-1</td>\n",
       "      <td>-1</td>\n",
       "      <td>1</td>\n",
       "      <td>-1</td>\n",
       "      <td>1</td>\n",
       "      <td>-1</td>\n",
       "      <td>1</td>\n",
       "      <td>-1</td>\n",
       "    </tr>\n",
       "    <tr>\n",
       "      <th>4</th>\n",
       "      <td>5</td>\n",
       "      <td>1</td>\n",
       "      <td>0</td>\n",
       "      <td>-1</td>\n",
       "      <td>1</td>\n",
       "      <td>1</td>\n",
       "      <td>-1</td>\n",
       "      <td>1</td>\n",
       "      <td>1</td>\n",
       "      <td>-1</td>\n",
       "      <td>...</td>\n",
       "      <td>-1</td>\n",
       "      <td>1</td>\n",
       "      <td>-1</td>\n",
       "      <td>-1</td>\n",
       "      <td>0</td>\n",
       "      <td>-1</td>\n",
       "      <td>1</td>\n",
       "      <td>1</td>\n",
       "      <td>1</td>\n",
       "      <td>1</td>\n",
       "    </tr>\n",
       "  </tbody>\n",
       "</table>\n",
       "<p>5 rows × 32 columns</p>\n",
       "</div>"
      ],
      "text/plain": [
       "   index  having_IPhaving_IP_Address  URLURL_Length  Shortining_Service  \\\n",
       "0      1                          -1              1                   1   \n",
       "1      2                           1              1                   1   \n",
       "2      3                           1              0                   1   \n",
       "3      4                           1              0                   1   \n",
       "4      5                           1              0                  -1   \n",
       "\n",
       "   having_At_Symbol  double_slash_redirecting  Prefix_Suffix  \\\n",
       "0                 1                        -1             -1   \n",
       "1                 1                         1             -1   \n",
       "2                 1                         1             -1   \n",
       "3                 1                         1             -1   \n",
       "4                 1                         1             -1   \n",
       "\n",
       "   having_Sub_Domain  SSLfinal_State  Domain_registeration_length  ...  \\\n",
       "0                 -1              -1                           -1  ...   \n",
       "1                  0               1                           -1  ...   \n",
       "2                 -1              -1                           -1  ...   \n",
       "3                 -1              -1                            1  ...   \n",
       "4                  1               1                           -1  ...   \n",
       "\n",
       "   popUpWidnow  Iframe  age_of_domain  DNSRecord  web_traffic  Page_Rank  \\\n",
       "0            1       1             -1         -1           -1         -1   \n",
       "1            1       1             -1         -1            0         -1   \n",
       "2            1       1              1         -1            1         -1   \n",
       "3            1       1             -1         -1            1         -1   \n",
       "4           -1       1             -1         -1            0         -1   \n",
       "\n",
       "   Google_Index  Links_pointing_to_page  Statistical_report  Result  \n",
       "0             1                       1                  -1      -1  \n",
       "1             1                       1                   1      -1  \n",
       "2             1                       0                  -1      -1  \n",
       "3             1                      -1                   1      -1  \n",
       "4             1                       1                   1       1  \n",
       "\n",
       "[5 rows x 32 columns]"
      ]
     },
     "execution_count": 18,
     "metadata": {},
     "output_type": "execute_result"
    }
   ],
   "source": [
    "df.head()"
   ]
  },
  {
   "cell_type": "code",
   "execution_count": 19,
   "metadata": {},
   "outputs": [
    {
     "data": {
      "text/plain": [
       "array([-1,  1], dtype=int64)"
      ]
     },
     "execution_count": 19,
     "metadata": {},
     "output_type": "execute_result"
    }
   ],
   "source": [
    "df['Result'].unique()"
   ]
  },
  {
   "cell_type": "code",
   "execution_count": 20,
   "metadata": {},
   "outputs": [
    {
     "data": {
      "text/plain": [
       "(11055, 32)"
      ]
     },
     "execution_count": 20,
     "metadata": {},
     "output_type": "execute_result"
    }
   ],
   "source": [
    "df.shape"
   ]
  },
  {
   "cell_type": "code",
   "execution_count": 21,
   "metadata": {},
   "outputs": [
    {
     "name": "stderr",
     "output_type": "stream",
     "text": [
      "D:\\Coding Stuff\\Anaconda\\lib\\site-packages\\seaborn\\_decorators.py:36: FutureWarning: Pass the following variable as a keyword arg: x. From version 0.12, the only valid positional argument will be `data`, and passing other arguments without an explicit keyword will result in an error or misinterpretation.\n",
      "  warnings.warn(\n"
     ]
    },
    {
     "data": {
      "text/plain": [
       "<AxesSubplot:xlabel='Result', ylabel='count'>"
      ]
     },
     "execution_count": 21,
     "metadata": {},
     "output_type": "execute_result"
    },
    {
     "data": {
      "image/png": "[encoded data removed]",
      "text/plain": [
       "<Figure size 432x288 with 1 Axes>"
      ]
     },
     "metadata": {
      "needs_background": "light"
     },
     "output_type": "display_data"
    }
   ],
   "source": [
    "import seaborn as sns\n",
    "sns.countplot(df['Result'])"
   ]
  },
  {
   "cell_type": "code",
   "execution_count": 22,
   "metadata": {},
   "outputs": [
    {
     "name": "stdout",
     "output_type": "stream",
     "text": [
      "having_IPhaving_IP_Address [-1  1]\n",
      "URLURL_Length [ 1  0 -1]\n",
      "Shortining_Service [ 1 -1]\n",
      "having_At_Symbol [ 1 -1]\n",
      "double_slash_redirecting [-1  1]\n",
      "Prefix_Suffix [-1  1]\n",
      "having_Sub_Domain [-1  0  1]\n",
      "SSLfinal_State [-1  1  0]\n",
      "Domain_registeration_length [-1  1]\n",
      "Favicon [ 1 -1]\n",
      "port [ 1 -1]\n",
      "HTTPS_token [-1  1]\n",
      "Request_URL [ 1 -1]\n",
      "URL_of_Anchor [-1  0  1]\n",
      "Links_in_tags [ 1 -1  0]\n",
      "SFH [-1  1  0]\n",
      "Submitting_to_email [-1  1]\n",
      "Abnormal_URL [-1  1]\n",
      "Redirect [0 1]\n",
      "on_mouseover [ 1 -1]\n",
      "RightClick [ 1 -1]\n",
      "popUpWidnow [ 1 -1]\n",
      "Iframe [ 1 -1]\n",
      "age_of_domain [-1  1]\n",
      "DNSRecord [-1  1]\n",
      "web_traffic [-1  0  1]\n",
      "Page_Rank [-1  1]\n",
      "Google_Index [ 1 -1]\n",
      "Links_pointing_to_page [ 1  0 -1]\n",
      "Statistical_report [-1  1]\n",
      "Result [-1  1]\n"
     ]
    }
   ],
   "source": [
    "#Unique values for each columns\n",
    "col=df.columns\n",
    "for i in col:\n",
    "     if  i!='index':\n",
    "        print(i,df[i].unique())"
   ]
  },
  {
   "cell_type": "code",
   "execution_count": 23,
   "metadata": {},
   "outputs": [],
   "source": [
    "#Replacing -1 with 0 \n",
    "df['Result']=df['Result'].replace(-1,0)"
   ]
  },
  {
   "cell_type": "code",
   "execution_count": 24,
   "metadata": {},
   "outputs": [
    {
     "data": {
      "text/plain": [
       "(11055, 32)"
      ]
     },
     "execution_count": 24,
     "metadata": {},
     "output_type": "execute_result"
    }
   ],
   "source": [
    "df.shape"
   ]
  },
  {
   "cell_type": "code",
   "execution_count": 25,
   "metadata": {},
   "outputs": [
    {
     "name": "stdout",
     "output_type": "stream",
     "text": [
      "Domain_registeration_length   -0.225789\n",
      "Shortining_Service            -0.067966\n",
      "Abnormal_URL                  -0.060488\n",
      "HTTPS_token                   -0.039854\n",
      "double_slash_redirecting      -0.038608\n",
      "Redirect                      -0.020113\n",
      "Iframe                        -0.003394\n",
      "Favicon                       -0.000280\n",
      "popUpWidnow                    0.000086\n",
      "index                          0.000978\n",
      "RightClick                     0.012653\n",
      "Submitting_to_email            0.018249\n",
      "Links_pointing_to_page         0.032574\n",
      "port                           0.036419\n",
      "on_mouseover                   0.041838\n",
      "having_At_Symbol               0.052948\n",
      "URLURL_Length                  0.057430\n",
      "DNSRecord                      0.075718\n",
      "Statistical_report             0.079857\n",
      "having_IPhaving_IP_Address     0.094160\n",
      "Page_Rank                      0.104645\n",
      "age_of_domain                  0.121496\n",
      "Google_Index                   0.128950\n",
      "SFH                            0.221419\n",
      "Links_in_tags                  0.248229\n",
      "Request_URL                    0.253372\n",
      "having_Sub_Domain              0.298323\n",
      "web_traffic                    0.346103\n",
      "Prefix_Suffix                  0.348606\n",
      "URL_of_Anchor                  0.692935\n",
      "SSLfinal_State                 0.714741\n",
      "Result                         1.000000\n",
      "Name: Result, dtype: float64\n"
     ]
    }
   ],
   "source": [
    "print(df.corr()['Result'].sort_values())"
   ]
  },
  {
   "cell_type": "code",
   "execution_count": 26,
   "metadata": {},
   "outputs": [
    {
     "data": {
      "text/plain": [
       "<AxesSubplot:>"
      ]
     },
     "execution_count": 26,
     "metadata": {},
     "output_type": "execute_result"
    },
    {
     "data": {
      "image/png": "[encoded data removed]",
      "text/plain": [
       "<Figure size 1080x1080 with 2 Axes>"
      ]
     },
     "metadata": {
      "needs_background": "light"
     },
     "output_type": "display_data"
    }
   ],
   "source": [
    "plt.figure(figsize=(15, 15))\n",
    "sns.heatmap(df.corr(), linewidths=.5)"
   ]
  },
  {
   "cell_type": "code",
   "execution_count": 27,
   "metadata": {},
   "outputs": [],
   "source": [
    "from sklearn.model_selection import train_test_split,cross_val_score\n",
    "X= df.drop(columns='Result')\n",
    "Y=df['Result']\n",
    "train_X,test_X,train_Y,test_Y=train_test_split(X,Y,test_size=0.3,random_state=2)"
   ]
  },
  {
   "cell_type": "code",
   "execution_count": 28,
   "metadata": {},
   "outputs": [
    {
     "name": "stderr",
     "output_type": "stream",
     "text": [
      "D:\\Coding Stuff\\Anaconda\\lib\\site-packages\\sklearn\\linear_model\\_logistic.py:763: ConvergenceWarning: lbfgs failed to converge (status=1):\n",
      "STOP: TOTAL NO. of ITERATIONS REACHED LIMIT.\n",
      "\n",
      "Increase the number of iterations (max_iter) or scale the data as shown in:\n",
      "    https://scikit-learn.org/stable/modules/preprocessing.html\n",
      "Please also refer to the documentation for alternative solver options:\n",
      "    https://scikit-learn.org/stable/modules/linear_model.html#logistic-regression\n",
      "  n_iter_i = _check_optimize_result(\n"
     ]
    },
    {
     "data": {
      "text/plain": [
       "0.9207114862827857"
      ]
     },
     "execution_count": 28,
     "metadata": {},
     "output_type": "execute_result"
    }
   ],
   "source": [
    "from sklearn.linear_model import LogisticRegression\n",
    "from sklearn.metrics import accuracy_score\n",
    "lr=LogisticRegression()\n",
    "lr.fit(train_X,train_Y)\n",
    "pred=lr.predict(test_X)\n",
    "accuracy_score(pred,test_Y)"
   ]
  },
  {
   "cell_type": "code",
   "execution_count": 29,
   "metadata": {},
   "outputs": [
    {
     "data": {
      "text/plain": [
       "0.622851974675912"
      ]
     },
     "execution_count": 29,
     "metadata": {},
     "output_type": "execute_result"
    }
   ],
   "source": [
    "from sklearn.neighbors import KNeighborsClassifier\n",
    "knn=KNeighborsClassifier(n_neighbors=3)\n",
    "knn.fit(train_X,train_Y)\n",
    "knn_predict=knn.predict(test_X)\n",
    "accuracy_score(knn_predict,test_Y)"
   ]
  },
  {
   "cell_type": "code",
   "execution_count": 30,
   "metadata": {},
   "outputs": [
    {
     "data": {
      "image/png": "[encoded data removed]",
      "text/plain": [
       "<Figure size 720x360 with 1 Axes>"
      ]
     },
     "metadata": {
      "needs_background": "light"
     },
     "output_type": "display_data"
    }
   ],
   "source": [
    "neighbors = np.arange(1, 15)\n",
    "\n",
    "train_accuracy = np.empty(len(neighbors))\n",
    "test_accuracy = np.empty(len(neighbors))\n",
    "\n",
    "# Loop over different values of k\n",
    "for i, k in enumerate(neighbors):\n",
    "    # Setup a k-NN Classifier with k neighbors: knn\n",
    "    knn = KNeighborsClassifier(n_neighbors= k )\n",
    "\n",
    "    # Fit the classifier to the training data\n",
    "    knn.fit(train_X, train_Y)\n",
    "    \n",
    "    #Compute accuracy on the training set\n",
    "    train_accuracy[i] = knn.score(train_X, train_Y)\n",
    "\n",
    "    #Compute accuracy on the testing set\n",
    "    test_accuracy[i] = knn.score(test_X, test_Y)\n",
    "\n",
    "# Generate plot\n",
    "plt.figure(figsize=(10,5))\n",
    "plt.title('k-NN: Varying Number of Neighbors')\n",
    "plt.plot(neighbors, test_accuracy, label = 'Testing Accuracy')\n",
    "plt.plot(neighbors, train_accuracy, label = 'Training Accuracy')\n",
    "plt.legend()\n",
    "plt.xlabel('Number of Neighbors')\n",
    "plt.ylabel('Accuracy')\n",
    "plt.show()"
   ]
  },
  {
   "cell_type": "code",
   "execution_count": 31,
   "metadata": {},
   "outputs": [
    {
     "data": {
      "text/plain": [
       "0.9035272836900814"
      ]
     },
     "execution_count": 31,
     "metadata": {},
     "output_type": "execute_result"
    }
   ],
   "source": [
    "from sklearn.naive_bayes import BernoulliNB\n",
    "clf = BernoulliNB()\n",
    "clf.fit(train_X, train_Y)\n",
    "naive_predict=clf.predict(test_X)\n",
    "accuracy_score(naive_predict,test_Y)"
   ]
  },
  {
   "cell_type": "code",
   "execution_count": 44,
   "metadata": {},
   "outputs": [
    {
     "data": {
      "text/plain": [
       "0.9683448899608079"
      ]
     },
     "execution_count": 44,
     "metadata": {},
     "output_type": "execute_result"
    }
   ],
   "source": [
    "from sklearn.ensemble import RandomForestClassifier\n",
    "forest_clf = RandomForestClassifier(max_depth=20, random_state=42)\n",
    "forest_clf.fit(train_X,train_Y)\n",
    "ran_pred=forest_clf.predict(test_X)\n",
    "accuracy_score(ran_pred,test_Y)"
   ]
  },
  {
   "cell_type": "code",
   "execution_count": 50,
   "metadata": {},
   "outputs": [
    {
     "name": "stdout",
     "output_type": "stream",
     "text": [
      "Epoch 1/100\n",
      "774/774 [==============================] - 1s 1ms/step - loss: 3.9013 - accuracy: 0.6257\n",
      "Epoch 2/100\n",
      "774/774 [==============================] - 1s 904us/step - loss: 1.4825 - accuracy: 0.7253\n",
      "Epoch 3/100\n",
      "774/774 [==============================] - 1s 924us/step - loss: 1.0022 - accuracy: 0.7747\n",
      "Epoch 4/100\n",
      "774/774 [==============================] - 1s 890us/step - loss: 0.8944 - accuracy: 0.8063\n",
      "Epoch 5/100\n",
      "774/774 [==============================] - 1s 850us/step - loss: 1.1802 - accuracy: 0.8078\n",
      "Epoch 6/100\n",
      "774/774 [==============================] - 1s 912us/step - loss: 0.7827 - accuracy: 0.8241\n",
      "Epoch 7/100\n",
      "774/774 [==============================] - 1s 935us/step - loss: 0.8048 - accuracy: 0.8193\n",
      "Epoch 8/100\n",
      "774/774 [==============================] - 1s 955us/step - loss: 0.5850 - accuracy: 0.8566\n",
      "Epoch 9/100\n",
      "774/774 [==============================] - 1s 1ms/step - loss: 0.5660 - accuracy: 0.8514\n",
      "Epoch 10/100\n",
      "774/774 [==============================] - 1s 1ms/step - loss: 0.3955 - accuracy: 0.8703\n",
      "Epoch 11/100\n",
      "774/774 [==============================] - 1s 917us/step - loss: 0.4203 - accuracy: 0.8666\n",
      "Epoch 12/100\n",
      "774/774 [==============================] - 1s 954us/step - loss: 0.4552 - accuracy: 0.8668\n",
      "Epoch 13/100\n",
      "774/774 [==============================] - 1s 969us/step - loss: 0.4845 - accuracy: 0.8498\n",
      "Epoch 14/100\n",
      "774/774 [==============================] - 1s 882us/step - loss: 0.3717 - accuracy: 0.8794\n",
      "Epoch 15/100\n",
      "774/774 [==============================] - 1s 923us/step - loss: 0.3619 - accuracy: 0.8787\n",
      "Epoch 16/100\n",
      "774/774 [==============================] - 1s 961us/step - loss: 0.4173 - accuracy: 0.8692\n",
      "Epoch 17/100\n",
      "774/774 [==============================] - 1s 983us/step - loss: 0.2733 - accuracy: 0.8908\n",
      "Epoch 18/100\n",
      "774/774 [==============================] - 1s 968us/step - loss: 0.2904 - accuracy: 0.8872\n",
      "Epoch 19/100\n",
      "774/774 [==============================] - 1s 961us/step - loss: 0.3630 - accuracy: 0.8617\n",
      "Epoch 20/100\n",
      "774/774 [==============================] - 1s 968us/step - loss: 0.3518 - accuracy: 0.8648\n",
      "Epoch 21/100\n",
      "774/774 [==============================] - 1s 983us/step - loss: 0.2778 - accuracy: 0.8869\n",
      "Epoch 22/100\n",
      "774/774 [==============================] - 1s 957us/step - loss: 0.2592 - accuracy: 0.8986\n",
      "Epoch 23/100\n",
      "774/774 [==============================] - 1s 965us/step - loss: 0.2643 - accuracy: 0.8927\n",
      "Epoch 24/100\n",
      "774/774 [==============================] - 1s 940us/step - loss: 0.2862 - accuracy: 0.8890\n",
      "Epoch 25/100\n",
      "774/774 [==============================] - 1s 924us/step - loss: 0.2589 - accuracy: 0.8979\n",
      "Epoch 26/100\n",
      "774/774 [==============================] - 1s 955us/step - loss: 0.4555 - accuracy: 0.7445\n",
      "Epoch 27/100\n",
      "774/774 [==============================] - 1s 1ms/step - loss: 0.2566 - accuracy: 0.8957\n",
      "Epoch 28/100\n",
      "774/774 [==============================] - 1s 866us/step - loss: 0.2593 - accuracy: 0.8945\n",
      "Epoch 29/100\n",
      "774/774 [==============================] - 1s 966us/step - loss: 0.2542 - accuracy: 0.8991\n",
      "Epoch 30/100\n",
      "774/774 [==============================] - 1s 961us/step - loss: 0.2706 - accuracy: 0.8938\n",
      "Epoch 31/100\n",
      "774/774 [==============================] - 1s 965us/step - loss: 0.2427 - accuracy: 0.9028\n",
      "Epoch 32/100\n",
      "774/774 [==============================] - 1s 968us/step - loss: 0.2454 - accuracy: 0.9007\n",
      "Epoch 33/100\n",
      "774/774 [==============================] - 1s 976us/step - loss: 0.2395 - accuracy: 0.9070\n",
      "Epoch 34/100\n",
      "774/774 [==============================] - 1s 988us/step - loss: 0.2511 - accuracy: 0.9005\n",
      "Epoch 35/100\n",
      "774/774 [==============================] - 1s 978us/step - loss: 0.2350 - accuracy: 0.9010\n",
      "Epoch 36/100\n",
      "774/774 [==============================] - 1s 991us/step - loss: 0.2443 - accuracy: 0.8995\n",
      "Epoch 37/100\n",
      "774/774 [==============================] - 1s 986us/step - loss: 0.2374 - accuracy: 0.9060\n",
      "Epoch 38/100\n",
      "774/774 [==============================] - 1s 934us/step - loss: 0.2718 - accuracy: 0.8891\n",
      "Epoch 39/100\n",
      "774/774 [==============================] - 1s 933us/step - loss: 0.2409 - accuracy: 0.9036\n",
      "Epoch 40/100\n",
      "774/774 [==============================] - 1s 951us/step - loss: 0.2237 - accuracy: 0.9071\n",
      "Epoch 41/100\n",
      "774/774 [==============================] - 1s 969us/step - loss: 0.2251 - accuracy: 0.9088\n",
      "Epoch 42/100\n",
      "774/774 [==============================] - 1s 971us/step - loss: 0.2405 - accuracy: 0.9048\n",
      "Epoch 43/100\n",
      "774/774 [==============================] - 1s 992us/step - loss: 0.2261 - accuracy: 0.9082\n",
      "Epoch 44/100\n",
      "774/774 [==============================] - 1s 966us/step - loss: 0.2359 - accuracy: 0.9058\n",
      "Epoch 45/100\n",
      "774/774 [==============================] - 1s 982us/step - loss: 0.2242 - accuracy: 0.9112\n",
      "Epoch 46/100\n",
      "774/774 [==============================] - 1s 945us/step - loss: 0.2389 - accuracy: 0.9053\n",
      "Epoch 47/100\n",
      "774/774 [==============================] - 1s 958us/step - loss: 0.2329 - accuracy: 0.9086\n",
      "Epoch 48/100\n",
      "774/774 [==============================] - 1s 969us/step - loss: 0.2085 - accuracy: 0.9169\n",
      "Epoch 49/100\n",
      "774/774 [==============================] - 1s 972us/step - loss: 0.2319 - accuracy: 0.9079\n",
      "Epoch 50/100\n",
      "774/774 [==============================] - 1s 923us/step - loss: 0.2230 - accuracy: 0.9112\n",
      "Epoch 51/100\n",
      "774/774 [==============================] - 1s 908us/step - loss: 0.2299 - accuracy: 0.9062\n",
      "Epoch 52/100\n",
      "774/774 [==============================] - 1s 930us/step - loss: 0.2218 - accuracy: 0.9095\n",
      "Epoch 53/100\n",
      "774/774 [==============================] - 1s 909us/step - loss: 0.2261 - accuracy: 0.9128\n",
      "Epoch 54/100\n",
      "774/774 [==============================] - 1s 928us/step - loss: 0.2089 - accuracy: 0.9159\n",
      "Epoch 55/100\n",
      "774/774 [==============================] - 1s 935us/step - loss: 0.2050 - accuracy: 0.9179\n",
      "Epoch 56/100\n",
      "774/774 [==============================] - 1s 904us/step - loss: 0.2220 - accuracy: 0.9104\n",
      "Epoch 57/100\n",
      "774/774 [==============================] - 1s 908us/step - loss: 0.2148 - accuracy: 0.9141\n",
      "Epoch 58/100\n",
      "774/774 [==============================] - 1s 921us/step - loss: 0.2114 - accuracy: 0.9147\n",
      "Epoch 59/100\n",
      "774/774 [==============================] - 1s 923us/step - loss: 0.2181 - accuracy: 0.9155\n",
      "Epoch 60/100\n",
      "774/774 [==============================] - 1s 910us/step - loss: 0.2182 - accuracy: 0.9113\n",
      "Epoch 61/100\n",
      "774/774 [==============================] - 1s 903us/step - loss: 0.2056 - accuracy: 0.9151\n",
      "Epoch 62/100\n",
      "774/774 [==============================] - 1s 1ms/step - loss: 0.2079 - accuracy: 0.9170\n",
      "Epoch 63/100\n",
      "774/774 [==============================] - 1s 902us/step - loss: 0.2192 - accuracy: 0.9111\n",
      "Epoch 64/100\n",
      "774/774 [==============================] - 1s 914us/step - loss: 0.2055 - accuracy: 0.9141\n",
      "Epoch 65/100\n",
      "774/774 [==============================] - 1s 914us/step - loss: 0.2102 - accuracy: 0.9152\n",
      "Epoch 66/100\n",
      "774/774 [==============================] - 1s 906us/step - loss: 0.2109 - accuracy: 0.9151\n",
      "Epoch 67/100\n",
      "774/774 [==============================] - 1s 908us/step - loss: 0.2081 - accuracy: 0.9146\n",
      "Epoch 68/100\n",
      "774/774 [==============================] - 1s 904us/step - loss: 0.2147 - accuracy: 0.9138\n",
      "Epoch 69/100\n",
      "774/774 [==============================] - 1s 917us/step - loss: 0.2048 - accuracy: 0.9192\n",
      "Epoch 70/100\n",
      "774/774 [==============================] - 1s 920us/step - loss: 0.2071 - accuracy: 0.9163\n",
      "Epoch 71/100\n",
      "774/774 [==============================] - 1s 936us/step - loss: 0.2060 - accuracy: 0.9159\n",
      "Epoch 72/100\n",
      "774/774 [==============================] - 1s 904us/step - loss: 0.2040 - accuracy: 0.9196\n",
      "Epoch 73/100\n",
      "774/774 [==============================] - 1s 905us/step - loss: 0.2148 - accuracy: 0.9148\n",
      "Epoch 74/100\n",
      "774/774 [==============================] - 1s 910us/step - loss: 0.2060 - accuracy: 0.9166\n",
      "Epoch 75/100\n",
      "774/774 [==============================] - 1s 920us/step - loss: 0.2062 - accuracy: 0.9144\n",
      "Epoch 76/100\n",
      "774/774 [==============================] - 1s 915us/step - loss: 0.2023 - accuracy: 0.9178\n",
      "Epoch 77/100\n",
      "774/774 [==============================] - 1s 912us/step - loss: 0.2009 - accuracy: 0.9194\n",
      "Epoch 78/100\n",
      "774/774 [==============================] - 1s 908us/step - loss: 0.2023 - accuracy: 0.9178\n",
      "Epoch 79/100\n",
      "774/774 [==============================] - 1s 922us/step - loss: 0.2056 - accuracy: 0.9166\n",
      "Epoch 80/100\n",
      "774/774 [==============================] - 1s 924us/step - loss: 0.2089 - accuracy: 0.9161\n",
      "Epoch 81/100\n",
      "774/774 [==============================] - 1s 926us/step - loss: 0.2116 - accuracy: 0.9151\n",
      "Epoch 82/100\n",
      "774/774 [==============================] - 1s 940us/step - loss: 0.2053 - accuracy: 0.9170\n",
      "Epoch 83/100\n",
      "774/774 [==============================] - 1s 953us/step - loss: 0.1978 - accuracy: 0.9207\n",
      "Epoch 84/100\n",
      "774/774 [==============================] - 1s 967us/step - loss: 0.2049 - accuracy: 0.9172\n",
      "Epoch 85/100\n",
      "774/774 [==============================] - 1s 950us/step - loss: 0.2107 - accuracy: 0.9125\n",
      "Epoch 86/100\n",
      "774/774 [==============================] - 1s 940us/step - loss: 0.2000 - accuracy: 0.9195\n",
      "Epoch 87/100\n",
      "774/774 [==============================] - 1s 934us/step - loss: 0.2027 - accuracy: 0.9183\n",
      "Epoch 88/100\n",
      "774/774 [==============================] - 1s 989us/step - loss: 0.2074 - accuracy: 0.9163\n",
      "Epoch 89/100\n",
      "774/774 [==============================] - 1s 967us/step - loss: 0.1967 - accuracy: 0.9185\n",
      "Epoch 90/100\n",
      "774/774 [==============================] - 1s 969us/step - loss: 0.1942 - accuracy: 0.9207\n",
      "Epoch 91/100\n",
      "774/774 [==============================] - 1s 952us/step - loss: 0.2009 - accuracy: 0.9201\n",
      "Epoch 92/100\n",
      "774/774 [==============================] - 1s 942us/step - loss: 0.2011 - accuracy: 0.9181\n",
      "Epoch 93/100\n",
      "774/774 [==============================] - 1s 911us/step - loss: 0.1995 - accuracy: 0.9178\n",
      "Epoch 94/100\n",
      "774/774 [==============================] - 1s 915us/step - loss: 0.1978 - accuracy: 0.9195\n",
      "Epoch 95/100\n",
      "774/774 [==============================] - 1s 911us/step - loss: 0.2113 - accuracy: 0.9150\n",
      "Epoch 96/100\n",
      "774/774 [==============================] - 1s 912us/step - loss: 0.2019 - accuracy: 0.9196\n",
      "Epoch 97/100\n",
      "774/774 [==============================] - 1s 916us/step - loss: 0.2041 - accuracy: 0.9165\n",
      "Epoch 98/100\n",
      "774/774 [==============================] - 1s 904us/step - loss: 0.2010 - accuracy: 0.9188\n",
      "Epoch 99/100\n",
      "774/774 [==============================] - 1s 929us/step - loss: 0.2017 - accuracy: 0.9164\n",
      "Epoch 100/100\n",
      "774/774 [==============================] - 1s 910us/step - loss: 0.2006 - accuracy: 0.9196\n"
     ]
    },
    {
     "data": {
      "text/plain": [
       "<keras.callbacks.History at 0x221126ca430>"
      ]
     },
     "execution_count": 50,
     "metadata": {},
     "output_type": "execute_result"
    }
   ],
   "source": [
    "import tensorflow as tf\n",
    "ann = tf.keras.models.Sequential()\n",
    "ann.add(tf.keras.layers.Dense(32,activation='relu',input_dim=31))\n",
    "ann.add(tf.keras.layers.Dense(16,activation='relu'))\n",
    "ann.add(tf.keras.layers.Dense(18,activation='relu'))\n",
    "ann.add(tf.keras.layers.Dense(1,activation='sigmoid'))\n",
    "ann.compile(loss='binary_crossentropy',optimizer='adam',metrics=['accuracy'])\n",
    "ann.fit(train_X,train_Y,epochs=100,batch_size=10)"
   ]
  },
  {
   "cell_type": "code",
   "execution_count": 54,
   "metadata": {},
   "outputs": [
    {
     "data": {
      "text/plain": [
       "['models/forest.pkl']"
      ]
     },
     "execution_count": 54,
     "metadata": {},
     "output_type": "execute_result"
    }
   ],
   "source": [
    "import joblib\n",
    "joblib.dump(forest_clf,'model/forest.pkl')\n"
   ]
  },
  {
   "cell_type": "code",
   "execution_count": null,
   "metadata": {},
   "outputs": [],
   "source": []
  }
 ],
 "metadata": {
  "interpreter": {
   "hash": "23efdec058f8f60007e252e642368c5eff3838746fc473de720bbe9f84b17926"
  },
  "kernelspec": {
   "display_name": "Python 3.8.8 64-bit (conda)",
   "language": "python",
   "name": "python3"
  },
  "language_info": {
   "codemirror_mode": {
    "name": "ipython",
    "version": 3
   },
   "file_extension": ".py",
   "mimetype": "text/x-python",
   "name": "python",
   "nbconvert_exporter": "python",
   "pygments_lexer": "ipython3",
   "version": "3.8.8"
  },
  "orig_nbformat": 4
 },
 "nbformat": 4,
 "nbformat_minor": 2
}
